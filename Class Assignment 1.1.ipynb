{
 "cells": [
  {
   "cell_type": "code",
   "execution_count": 1,
   "metadata": {},
   "outputs": [
    {
     "name": "stdout",
     "output_type": "stream",
     "text": [
      "Height: 3\n",
      "Breadth: 4\n",
      "Area of triangle: 6.0\n",
      "Height1: 3\n",
      "Height2: 4\n",
      "Breadth: 45\n",
      "Perimeter of triangle: 52.0\n"
     ]
    }
   ],
   "source": [
    "def triangle():\n",
    "    height = float(input(\"Height: \"))\n",
    "    breadth = float(input(\"Breadth: \"))\n",
    "\n",
    "    area = (height * breadth) / 2\n",
    "    print(\"Area of triangle:\", area)\n",
    "\n",
    "    height1 = float(input(\"Height1: \"))\n",
    "    height2 = float(input(\"Height2: \"))\n",
    "    breadth2 = float(input(\"Breadth: \"))\n",
    "\n",
    "    perimeter = height1 + height2 + breadth2\n",
    "    print(\"Perimeter of triangle:\", perimeter)\n",
    "\n",
    "# Calling the triangle() function\n",
    "triangle()\n"
   ]
  },
  {
   "cell_type": "code",
   "execution_count": 2,
   "metadata": {},
   "outputs": [
    {
     "name": "stdout",
     "output_type": "stream",
     "text": [
      "Height: 3\n",
      "Breadth: 4\n",
      "Area of triangle: 6.0\n",
      "Height1: 3\n",
      "Height2: 4\n",
      "Breadth: 45\n",
      "Perimeter of triangle: 52.0\n"
     ]
    }
   ],
   "source": [
    "triangle()"
   ]
  },
  {
   "cell_type": "code",
   "execution_count": 3,
   "metadata": {},
   "outputs": [
    {
     "name": "stdout",
     "output_type": "stream",
     "text": [
      "Subject1 = 23\n",
      "Subject2 = 45\n",
      "Subject3 = 34\n",
      "Subject4 = 23\n",
      "Subject5 = 23\n",
      "Total: 148\n",
      "Percentage: 29.599999999999998\n"
     ]
    }
   ],
   "source": [
    "def percentage():\n",
    "    subject1 = 23\n",
    "    subject2 = 45\n",
    "    subject3 = 34\n",
    "    subject4 = 23\n",
    "    subject5 = 23\n",
    "    \n",
    "    total = subject1 + subject2 + subject3 + subject4 + subject5\n",
    "    percentage = total / 500 * 100\n",
    "    \n",
    "    print(f\"Subject1 = {subject1}\")\n",
    "    print(f\"Subject2 = {subject2}\")\n",
    "    print(f\"Subject3 = {subject3}\")\n",
    "    print(f\"Subject4 = {subject4}\")\n",
    "    print(f\"Subject5 = {subject5}\")\n",
    "    print(f\"Total: {total}\")\n",
    "    print(f\"Percentage: {percentage}\")\n",
    "\n",
    "\n",
    "# Call the percentage() function\n",
    "percentage()\n"
   ]
  },
  {
   "cell_type": "code",
   "execution_count": 4,
   "metadata": {},
   "outputs": [
    {
     "name": "stdout",
     "output_type": "stream",
     "text": [
      "Subject1 = 23\n",
      "Subject2 = 45\n",
      "Subject3 = 34\n",
      "Subject4 = 23\n",
      "Subject5 = 23\n",
      "Total: 148\n",
      "Percentage: 29.599999999999998\n"
     ]
    }
   ],
   "source": [
    "percentage()"
   ]
  },
  {
   "cell_type": "code",
   "execution_count": 6,
   "metadata": {},
   "outputs": [
    {
     "name": "stdout",
     "output_type": "stream",
     "text": [
      "Your Gender: Male\n",
      "Your Age: 18\n",
      "NOT ELIGIBLE\n"
     ]
    }
   ],
   "source": [
    "def Eligible():\n",
    "    gender = input(\"Your Gender: \")\n",
    "    age = int(input(\"Your Age: \"))\n",
    "\n",
    "    if gender.lower() == \"male\" and age > 18:\n",
    "        print(\"ELIGIBLE\")\n",
    "    else:\n",
    "        print(\"NOT ELIGIBLE\")\n",
    "\n",
    "Eligible()\n"
   ]
  },
  {
   "cell_type": "code",
   "execution_count": 9,
   "metadata": {},
   "outputs": [
    {
     "name": "stdout",
     "output_type": "stream",
     "text": [
      "Your Gender: Male\n",
      "Your Age: 18\n",
      "NOT ELIGIBLE\n"
     ]
    }
   ],
   "source": [
    "Eligible()"
   ]
  },
  {
   "cell_type": "code",
   "execution_count": 8,
   "metadata": {},
   "outputs": [
    {
     "name": "stdout",
     "output_type": "stream",
     "text": [
      "Enter a number: 4\n",
      "4 is an Even number\n"
     ]
    }
   ],
   "source": [
    "def OddEven():\n",
    "    num = int(input(\"Enter a number: \"))\n",
    "\n",
    "    if num % 2 == 0:\n",
    "        print(num, \"is an Even number\")\n",
    "    else:\n",
    "        print(num, \"is an Odd number\")\n",
    "\n",
    "# Calling the OddEven function\n",
    "OddEven()\n"
   ]
  },
  {
   "cell_type": "code",
   "execution_count": 10,
   "metadata": {},
   "outputs": [
    {
     "name": "stdout",
     "output_type": "stream",
     "text": [
      "Sub-fields in AI are:\n",
      "Machine Learning\n",
      "Neural Networks\n",
      "Vision\n",
      "Robotics\n",
      "Speech Processing\n",
      "Natural Language Processing\n"
     ]
    }
   ],
   "source": [
    "def Subfields():\n",
    "    subfields = [\n",
    "        \"Machine Learning\",\n",
    "        \"Neural Networks\",\n",
    "        \"Vision\",\n",
    "        \"Robotics\",\n",
    "        \"Speech Processing\",\n",
    "        \"Natural Language Processing\"\n",
    "    ]\n",
    "    \n",
    "    print(\"Sub-fields in AI are:\")\n",
    "    for subfield in subfields:\n",
    "        print(subfield)\n",
    "\n",
    "# Call the Subfields() function\n",
    "Subfields()\n"
   ]
  },
  {
   "cell_type": "code",
   "execution_count": 11,
   "metadata": {},
   "outputs": [
    {
     "name": "stdout",
     "output_type": "stream",
     "text": [
      "Sub-fields in AI are:\n",
      "Machine Learning\n",
      "Neural Networks\n",
      "Vision\n",
      "Robotics\n",
      "Speech Processing\n",
      "Natural Language Processing\n"
     ]
    }
   ],
   "source": [
    "Subfields()"
   ]
  },
  {
   "cell_type": "code",
   "execution_count": 1,
   "metadata": {},
   "outputs": [],
   "source": [
    "def Eligible():\n",
    "    gender = input(\"Your Gender: \")\n",
    "    age = int(input(\"Your Age: \"))\n",
    "\n",
    "    if gender.lower() == \"male\" and age > 18:\n",
    "        print(\"ELIGIBLE\")\n",
    "    else:\n",
    "        print(\"NOT ELIGIBLE\")\n",
    "\n",
    "\n"
   ]
  },
  {
   "cell_type": "code",
   "execution_count": 3,
   "metadata": {},
   "outputs": [],
   "source": [
    "class MultiFunctions():\n",
    "    def Eligible():\n",
    "        gender = input(\"Your Gender: \")\n",
    "        age = int(input(\"Your Age: \"))\n",
    "\n",
    "        if gender.lower() == \"male\" and age > 18:\n",
    "            print(\"ELIGIBLE\")\n",
    "        else:\n",
    "            print(\"NOT ELIGIBLE\")\n",
    "    def triangle():\n",
    "        height = float(input(\"Height: \"))\n",
    "        breadth = float(input(\"Breadth: \"))\n",
    "\n",
    "        area = (height * breadth) / 2\n",
    "        print(\"Area of triangle:\", area)\n",
    "\n",
    "        height1 = float(input(\"Height1: \"))\n",
    "        height2 = float(input(\"Height2: \"))\n",
    "        breadth2 = float(input(\"Breadth: \"))\n",
    "\n",
    "        perimeter = height1 + height2 + breadth2\n",
    "        print(\"Perimeter of triangle:\", perimeter)\n",
    "    def percentage():\n",
    "        subject1 = 23\n",
    "        subject2 = 45\n",
    "        subject3 = 34\n",
    "        subject4 = 23\n",
    "        subject5 = 23\n",
    "\n",
    "        total = subject1 + subject2 + subject3 + subject4 + subject5\n",
    "        percentage = total / 500 * 100\n",
    "\n",
    "        print(f\"Subject1 = {subject1}\")\n",
    "        print(f\"Subject2 = {subject2}\")\n",
    "        print(f\"Subject3 = {subject3}\")\n",
    "        print(f\"Subject4 = {subject4}\")\n",
    "        print(f\"Subject5 = {subject5}\")\n",
    "        print(f\"Total: {total}\")\n",
    "        print(f\"Percentage: {percentage}\")\n",
    "    def OddEven():\n",
    "        num = int(input(\"Enter a number: \"))\n",
    "\n",
    "        if num % 2 == 0:\n",
    "            print(num, \"is an Even number\")\n",
    "        else:\n",
    "            print(num, \"is an Odd number\")\n",
    "    def Subfields():\n",
    "        subfields = [\n",
    "            \"Machine Learning\",\n",
    "            \"Neural Networks\",\n",
    "            \"Vision\",\n",
    "            \"Robotics\",\n",
    "            \"Speech Processing\",\n",
    "            \"Natural Language Processing\"\n",
    "        ]\n",
    "\n",
    "        print(\"Sub-fields in AI are:\")\n",
    "        for subfield in subfields:\n",
    "            print(subfield)\n",
    "\n",
    "\n"
   ]
  },
  {
   "cell_type": "code",
   "execution_count": 4,
   "metadata": {},
   "outputs": [
    {
     "name": "stdout",
     "output_type": "stream",
     "text": [
      "Sub-fields in AI are:\n",
      "Machine Learning\n",
      "Neural Networks\n",
      "Vision\n",
      "Robotics\n",
      "Speech Processing\n",
      "Natural Language Processing\n"
     ]
    }
   ],
   "source": [
    "MultiFunctions.Subfields()"
   ]
  },
  {
   "cell_type": "code",
   "execution_count": 5,
   "metadata": {},
   "outputs": [
    {
     "name": "stdout",
     "output_type": "stream",
     "text": [
      "Enter a number: 25\n",
      "25 is an Odd number\n"
     ]
    }
   ],
   "source": [
    "MultiFunctions.OddEven()"
   ]
  },
  {
   "cell_type": "code",
   "execution_count": 6,
   "metadata": {},
   "outputs": [
    {
     "name": "stdout",
     "output_type": "stream",
     "text": [
      "Subject1 = 23\n",
      "Subject2 = 45\n",
      "Subject3 = 34\n",
      "Subject4 = 23\n",
      "Subject5 = 23\n",
      "Total: 148\n",
      "Percentage: 29.599999999999998\n"
     ]
    }
   ],
   "source": [
    "MultiFunctions.percentage()"
   ]
  },
  {
   "cell_type": "code",
   "execution_count": 7,
   "metadata": {},
   "outputs": [
    {
     "name": "stdout",
     "output_type": "stream",
     "text": [
      "Height: 23\n",
      "Breadth: 45\n",
      "Area of triangle: 517.5\n",
      "Height1: 10\n",
      "Height2: 20\n",
      "Breadth: 15\n",
      "Perimeter of triangle: 45.0\n"
     ]
    }
   ],
   "source": [
    "MultiFunctions.triangle()"
   ]
  },
  {
   "cell_type": "code",
   "execution_count": 8,
   "metadata": {},
   "outputs": [
    {
     "name": "stdout",
     "output_type": "stream",
     "text": [
      "Your Gender: Male\n",
      "Your Age: 17\n",
      "NOT ELIGIBLE\n"
     ]
    }
   ],
   "source": [
    "MultiFunctions.Eligible()"
   ]
  },
  {
   "cell_type": "code",
   "execution_count": null,
   "metadata": {},
   "outputs": [],
   "source": []
  }
 ],
 "metadata": {
  "kernelspec": {
   "display_name": "Python 3",
   "language": "python",
   "name": "python3"
  },
  "language_info": {
   "codemirror_mode": {
    "name": "ipython",
    "version": 3
   },
   "file_extension": ".py",
   "mimetype": "text/x-python",
   "name": "python",
   "nbconvert_exporter": "python",
   "pygments_lexer": "ipython3",
   "version": "3.7.4"
  }
 },
 "nbformat": 4,
 "nbformat_minor": 2
}
